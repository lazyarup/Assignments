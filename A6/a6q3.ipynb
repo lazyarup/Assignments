{
 "cells": [
  {
   "cell_type": "code",
   "execution_count": 8,
   "id": "4e48227b",
   "metadata": {},
   "outputs": [
    {
     "name": "stdout",
     "output_type": "stream",
     "text": [
      "Present value = 1978.6860\n"
     ]
    }
   ],
   "source": [
    "import math\n",
    "\n",
    "payment = [460, 235, 640, 370, 330, 250]\n",
    "i = 0.045\n",
    "p = 4        #compounding\n",
    "pv = 0\n",
    "\n",
    "for j in range(len(payment)):\n",
    "    pv = pv + payment[j]*(1+i/p)**(-p*(j+1))\n",
    "\n",
    "print(f'Present value = {pv:.4f}')"
   ]
  }
 ],
 "metadata": {
  "kernelspec": {
   "display_name": "Python 3",
   "language": "python",
   "name": "python3"
  },
  "language_info": {
   "codemirror_mode": {
    "name": "ipython",
    "version": 3
   },
   "file_extension": ".py",
   "mimetype": "text/x-python",
   "name": "python",
   "nbconvert_exporter": "python",
   "pygments_lexer": "ipython3",
   "version": "3.12.0"
  }
 },
 "nbformat": 4,
 "nbformat_minor": 5
}
