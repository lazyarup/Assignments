{
 "cells": [
  {
   "cell_type": "code",
   "execution_count": null,
   "id": "0cb86ab9",
   "metadata": {},
   "outputs": [],
   "source": [
    "s0 = 40 \n"
   ]
  }
 ],
 "metadata": {
  "language_info": {
   "name": "python"
  }
 },
 "nbformat": 4,
 "nbformat_minor": 5
}
