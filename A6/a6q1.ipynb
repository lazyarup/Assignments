{
 "cells": [
  {
   "cell_type": "code",
   "execution_count": 22,
   "id": "9bad207a",
   "metadata": {},
   "outputs": [
    {
     "name": "stdout",
     "output_type": "stream",
     "text": [
      "Investment A is better - present value 986.4869 which is lower than 1015.9202\n"
     ]
    }
   ],
   "source": [
    "import numpy as np\n",
    "\n",
    "inv_a = [225, 215, 250, 225, 205]\n",
    "inv_b = [220, 225, 250, 250, 210]\n",
    "\n",
    "i = 0.0433\n",
    "pv_a , pv_b = 0,0\n",
    "\n",
    "\n",
    "for j in range(len(inv_a)):\n",
    "    pv_a = pv_a + inv_a[j]*np.exp(-i*(j+1))\n",
    "    pv_b = pv_b + inv_b[j]*np.exp(-i*(j+1))\n",
    "\n",
    "if pv_a < pv_b:\n",
    "    print(f\"Investment A is better - present value {pv_a:.4f} which is lower than {pv_b:.4f}\")\n",
    "else:\n",
    "    print(f\"Investment B is better - the present value is {pv_b:.4f} which is lower than {pv_a:.4f}\")\n",
    "    "
   ]
  }
 ],
 "metadata": {
  "kernelspec": {
   "display_name": "Python 3",
   "language": "python",
   "name": "python3"
  },
  "language_info": {
   "codemirror_mode": {
    "name": "ipython",
    "version": 3
   },
   "file_extension": ".py",
   "mimetype": "text/x-python",
   "name": "python",
   "nbconvert_exporter": "python",
   "pygments_lexer": "ipython3",
   "version": "3.12.0"
  }
 },
 "nbformat": 4,
 "nbformat_minor": 5
}
