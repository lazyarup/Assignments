{
 "cells": [
  {
   "cell_type": "code",
   "execution_count": 45,
   "id": "5578458b",
   "metadata": {},
   "outputs": [
    {
     "name": "stdout",
     "output_type": "stream",
     "text": [
      "Optimization successfull\n",
      "The optimal value would be :  8000\n",
      "x1 type food required = 0.00 unit\n",
      "x2 type food required = 200.00 unit\n",
      "x3 type food required = 0.00 unit\n",
      "x4 type food required = 0.00 unit\n"
     ]
    }
   ],
   "source": [
    "import numpy as np\n",
    "from scipy.optimize import linprog\n",
    "\n",
    "A = np.array([\n",
    "    [3,4,8,6],\n",
    "    [2,2,7,5],\n",
    "    [6,4,7,4]]\n",
    "    )\n",
    "\n",
    "b = np.array([800, 200, 700])\n",
    "obj = [45, 40, 85, 65]\n",
    "\n",
    "x1 = (0, None)\n",
    "x2 = (0, None)\n",
    "x3 = (0, None)\n",
    "x4 = (0, None)\n",
    "\n",
    "\n",
    "sol = linprog(c = obj, A_ub = -A, b_ub = -b, bounds = [x1, x2, x3, x4], method = 'highs')\n",
    "\n",
    "if sol.success:\n",
    "    print('Optimization successfull')\n",
    "    print('The optimal value would be : ', int(sol.fun))\n",
    "    for i in range(4):\n",
    "        print(f\"x{i+1} type food required = {sol.x[i]:.2f} unit\")\n",
    "else:\n",
    "    print('No optimal solution')"
   ]
  },
  {
   "cell_type": "code",
   "execution_count": 46,
   "id": "12f4309b",
   "metadata": {},
   "outputs": [],
   "source": [
    "required_neutrient = A@sol.x"
   ]
  },
  {
   "cell_type": "code",
   "execution_count": 47,
   "id": "664a018a",
   "metadata": {},
   "outputs": [
    {
     "name": "stdout",
     "output_type": "stream",
     "text": [
      "\n",
      "Binding Constraints:\n",
      "Protein: Yes\n",
      "Fat: No\n",
      "Carbohydrates: No\n"
     ]
    }
   ],
   "source": [
    "tolerance = 1e-6\n",
    "binding = np.isclose(required_neutrient, b, atol=tolerance)\n",
    "print(\"\\nBinding Constraints:\")\n",
    "nutrient_names = [\"Protein\", \"Fat\", \"Carbohydrates\"]\n",
    "for i, is_binding in enumerate(binding):\n",
    "    print(f\"{nutrient_names[i]}: {'Yes' if is_binding else 'No'}\")"
   ]
  }
 ],
 "metadata": {
  "kernelspec": {
   "display_name": "Python 3",
   "language": "python",
   "name": "python3"
  },
  "language_info": {
   "codemirror_mode": {
    "name": "ipython",
    "version": 3
   },
   "file_extension": ".py",
   "mimetype": "text/x-python",
   "name": "python",
   "nbconvert_exporter": "python",
   "pygments_lexer": "ipython3",
   "version": "3.12.0"
  }
 },
 "nbformat": 4,
 "nbformat_minor": 5
}
